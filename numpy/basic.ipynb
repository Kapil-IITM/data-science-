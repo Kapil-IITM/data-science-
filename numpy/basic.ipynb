{
 "cells": [
  {
   "cell_type": "code",
   "execution_count": 1,
   "id": "a91ed301",
   "metadata": {},
   "outputs": [
    {
     "name": "stdout",
     "output_type": "stream",
     "text": [
      "Collecting numpy\n",
      "  Downloading numpy-2.2.5-cp313-cp313-win_amd64.whl.metadata (60 kB)\n",
      "Downloading numpy-2.2.5-cp313-cp313-win_amd64.whl (12.6 MB)\n",
      "   ---------------------------------------- 0.0/12.6 MB ? eta -:--:--\n",
      "   ---- ----------------------------------- 1.3/12.6 MB 8.6 MB/s eta 0:00:02\n",
      "   ------------ --------------------------- 3.9/12.6 MB 11.2 MB/s eta 0:00:01\n",
      "   ------------------------ --------------- 7.6/12.6 MB 14.1 MB/s eta 0:00:01\n",
      "   ------------------------------------- -- 11.8/12.6 MB 15.7 MB/s eta 0:00:01\n",
      "   ---------------------------------------- 12.6/12.6 MB 14.7 MB/s eta 0:00:00\n",
      "Installing collected packages: numpy\n",
      "Successfully installed numpy-2.2.5\n"
     ]
    },
    {
     "name": "stderr",
     "output_type": "stream",
     "text": [
      "\n",
      "[notice] A new release of pip is available: 24.2 -> 25.1.1\n",
      "[notice] To update, run: python.exe -m pip install --upgrade pip\n"
     ]
    }
   ],
   "source": [
    "! pip install numpy\n"
   ]
  },
  {
   "cell_type": "code",
   "execution_count": 3,
   "id": "44a9b4e4",
   "metadata": {},
   "outputs": [
    {
     "name": "stdout",
     "output_type": "stream",
     "text": [
      "successfully installed\n"
     ]
    }
   ],
   "source": [
    "import numpy as np\n",
    "\n",
    "print(\"successfully installed\")"
   ]
  },
  {
   "cell_type": "code",
   "execution_count": 4,
   "id": "8c5a23eb",
   "metadata": {},
   "outputs": [
    {
     "name": "stdout",
     "output_type": "stream",
     "text": [
      "2.2.5\n"
     ]
    }
   ],
   "source": [
    "print(np.__version__)"
   ]
  },
  {
   "cell_type": "code",
   "execution_count": null,
   "id": "ca0b544a",
   "metadata": {},
   "outputs": [],
   "source": [
    "# # Array and list\n",
    "\n",
    "# Array similar data store krte hai \n",
    "# array >>>>> [1,2,3,4,5,6]\n",
    "\n",
    "# List >>>> [1,2,3,4,\"kapil\"] >>>>> list are used to store diffrent data types\n"
   ]
  },
  {
   "cell_type": "code",
   "execution_count": 7,
   "id": "46d7e083",
   "metadata": {},
   "outputs": [
    {
     "name": "stdout",
     "output_type": "stream",
     "text": [
      "type of list:- <class 'list'>\n",
      "[1 2 3 4 5]\n",
      "<class 'numpy.ndarray'>\n"
     ]
    }
   ],
   "source": [
    "lst = [1,2,3,4,5]\n",
    "print(\"type of list:-\",type(lst))\n",
    "arr = np.array(lst)\n",
    "print(arr)\n",
    "print(type(arr))"
   ]
  },
  {
   "cell_type": "code",
   "execution_count": 11,
   "id": "9f54da75",
   "metadata": {},
   "outputs": [
    {
     "name": "stdout",
     "output_type": "stream",
     "text": [
      "[1, 2, 3, 4, 5, 6, 7, 8, 9, 10, 11, 12, 13, 14, 15, 16, 17, 18, 19]\n",
      "<class 'list'>\n",
      "[ 1  2  3  4  5  6  7  8  9 10 11 12 13 14 15 16 17 18 19]\n",
      "<class 'numpy.ndarray'>\n"
     ]
    }
   ],
   "source": [
    "lst = list(range(1,20))\n",
    "print(lst)\n",
    "print(type(lst))\n",
    "\n",
    "arr = np.array(lst)\n",
    "print(arr)\n",
    "print(type(arr))"
   ]
  },
  {
   "cell_type": "code",
   "execution_count": 12,
   "id": "75294b98",
   "metadata": {},
   "outputs": [
    {
     "name": "stdout",
     "output_type": "stream",
     "text": [
      "<class 'numpy.ndarray'>\n"
     ]
    }
   ],
   "source": [
    "arr = np.arange(1,20) # this function is used to create array\n",
    "print(type(arr))"
   ]
  },
  {
   "cell_type": "code",
   "execution_count": 13,
   "id": "1cec7101",
   "metadata": {},
   "outputs": [
    {
     "data": {
      "text/plain": [
       "array([0., 0., 0., 0., 0.])"
      ]
     },
     "execution_count": 13,
     "metadata": {},
     "output_type": "execute_result"
    }
   ],
   "source": [
    "arr = np.zeros(5)\n",
    "arr"
   ]
  },
  {
   "cell_type": "code",
   "execution_count": 18,
   "id": "60cd4cbc",
   "metadata": {},
   "outputs": [
    {
     "data": {
      "text/plain": [
       "array([[0., 0., 0., 0., 0., 0., 0., 0., 0., 0.],\n",
       "       [0., 0., 0., 0., 0., 0., 0., 0., 0., 0.],\n",
       "       [0., 0., 0., 0., 0., 0., 0., 0., 0., 0.],\n",
       "       [0., 0., 0., 0., 0., 0., 0., 0., 0., 0.],\n",
       "       [0., 0., 0., 0., 0., 0., 0., 0., 0., 0.]])"
      ]
     },
     "execution_count": 18,
     "metadata": {},
     "output_type": "execute_result"
    }
   ],
   "source": [
    "arr = np.zeros((5,10))\n",
    "arr\n"
   ]
  },
  {
   "cell_type": "code",
   "execution_count": 17,
   "id": "42395c57",
   "metadata": {},
   "outputs": [
    {
     "data": {
      "text/plain": [
       "array([[1., 1., 1., 1., 1., 1., 1., 1., 1., 1.],\n",
       "       [1., 1., 1., 1., 1., 1., 1., 1., 1., 1.],\n",
       "       [1., 1., 1., 1., 1., 1., 1., 1., 1., 1.],\n",
       "       [1., 1., 1., 1., 1., 1., 1., 1., 1., 1.],\n",
       "       [1., 1., 1., 1., 1., 1., 1., 1., 1., 1.]])"
      ]
     },
     "execution_count": 17,
     "metadata": {},
     "output_type": "execute_result"
    }
   ],
   "source": [
    "arr = np.ones((5,10))\n",
    "arr"
   ]
  },
  {
   "cell_type": "markdown",
   "id": "d461aac9",
   "metadata": {},
   "source": [
    "### 1D array convert into 2D array"
   ]
  },
  {
   "cell_type": "code",
   "execution_count": 26,
   "id": "312323e5",
   "metadata": {},
   "outputs": [],
   "source": [
    "arr = np.arange(0,30)"
   ]
  },
  {
   "cell_type": "code",
   "execution_count": 27,
   "id": "c8bf53d8",
   "metadata": {},
   "outputs": [
    {
     "data": {
      "text/plain": [
       "array([ 0,  1,  2,  3,  4,  5,  6,  7,  8,  9, 10, 11, 12, 13, 14, 15, 16,\n",
       "       17, 18, 19, 20, 21, 22, 23, 24, 25, 26, 27, 28, 29])"
      ]
     },
     "execution_count": 27,
     "metadata": {},
     "output_type": "execute_result"
    }
   ],
   "source": [
    "arr"
   ]
  },
  {
   "cell_type": "code",
   "execution_count": 31,
   "id": "d9c183e6",
   "metadata": {},
   "outputs": [
    {
     "data": {
      "text/plain": [
       "array([[0.10631088, 0.61531994, 0.40946022, 0.83914015, 0.57099124,\n",
       "        0.27925964, 0.90672282, 0.73165155, 0.74823345, 0.45382134],\n",
       "       [0.27622215, 0.06038911, 0.31271197, 0.68575638, 0.63333729,\n",
       "        0.88036985, 0.61842771, 0.05738362, 0.99561726, 0.06848144],\n",
       "       [0.25487777, 0.96967965, 0.05978817, 0.98537153, 0.54728514,\n",
       "        0.06300916, 0.43309099, 0.17115737, 0.5571385 , 0.45595045],\n",
       "       [0.11733122, 0.3108836 , 0.69630526, 0.56506191, 0.84458264,\n",
       "        0.97557467, 0.17842502, 0.55996629, 0.49351218, 0.87886364],\n",
       "       [0.49215893, 0.83045135, 0.57340535, 0.25434402, 0.80434534,\n",
       "        0.39683264, 0.33290737, 0.02404766, 0.3740559 , 0.64047761]])"
      ]
     },
     "execution_count": 31,
     "metadata": {},
     "output_type": "execute_result"
    }
   ],
   "source": [
    "arr = np.random.random((5,10))\n",
    "arr"
   ]
  },
  {
   "cell_type": "code",
   "execution_count": 32,
   "id": "2efda6be",
   "metadata": {},
   "outputs": [
    {
     "data": {
      "text/plain": [
       "array([0.10631088, 0.61531994, 0.40946022, 0.83914015, 0.57099124,\n",
       "       0.27925964, 0.90672282, 0.73165155, 0.74823345, 0.45382134,\n",
       "       0.27622215, 0.06038911, 0.31271197, 0.68575638, 0.63333729,\n",
       "       0.88036985, 0.61842771, 0.05738362, 0.99561726, 0.06848144,\n",
       "       0.25487777, 0.96967965, 0.05978817, 0.98537153, 0.54728514,\n",
       "       0.06300916, 0.43309099, 0.17115737, 0.5571385 , 0.45595045,\n",
       "       0.11733122, 0.3108836 , 0.69630526, 0.56506191, 0.84458264,\n",
       "       0.97557467, 0.17842502, 0.55996629, 0.49351218, 0.87886364,\n",
       "       0.49215893, 0.83045135, 0.57340535, 0.25434402, 0.80434534,\n",
       "       0.39683264, 0.33290737, 0.02404766, 0.3740559 , 0.64047761])"
      ]
     },
     "execution_count": 32,
     "metadata": {},
     "output_type": "execute_result"
    }
   ],
   "source": [
    "arr.flatten()\n"
   ]
  },
  {
   "cell_type": "code",
   "execution_count": 33,
   "id": "fa19a773",
   "metadata": {},
   "outputs": [
    {
     "data": {
      "text/plain": [
       "array([0.10631088, 0.61531994, 0.40946022, 0.83914015, 0.57099124,\n",
       "       0.27925964, 0.90672282, 0.73165155, 0.74823345, 0.45382134,\n",
       "       0.27622215, 0.06038911, 0.31271197, 0.68575638, 0.63333729,\n",
       "       0.88036985, 0.61842771, 0.05738362, 0.99561726, 0.06848144,\n",
       "       0.25487777, 0.96967965, 0.05978817, 0.98537153, 0.54728514,\n",
       "       0.06300916, 0.43309099, 0.17115737, 0.5571385 , 0.45595045,\n",
       "       0.11733122, 0.3108836 , 0.69630526, 0.56506191, 0.84458264,\n",
       "       0.97557467, 0.17842502, 0.55996629, 0.49351218, 0.87886364,\n",
       "       0.49215893, 0.83045135, 0.57340535, 0.25434402, 0.80434534,\n",
       "       0.39683264, 0.33290737, 0.02404766, 0.3740559 , 0.64047761])"
      ]
     },
     "execution_count": 33,
     "metadata": {},
     "output_type": "execute_result"
    }
   ],
   "source": [
    "arr.ravel()"
   ]
  },
  {
   "cell_type": "code",
   "execution_count": 34,
   "id": "2c827ad3",
   "metadata": {},
   "outputs": [
    {
     "data": {
      "text/plain": [
       "array([[0.10631088, 0.27622215, 0.25487777, 0.11733122, 0.49215893],\n",
       "       [0.61531994, 0.06038911, 0.96967965, 0.3108836 , 0.83045135],\n",
       "       [0.40946022, 0.31271197, 0.05978817, 0.69630526, 0.57340535],\n",
       "       [0.83914015, 0.68575638, 0.98537153, 0.56506191, 0.25434402],\n",
       "       [0.57099124, 0.63333729, 0.54728514, 0.84458264, 0.80434534],\n",
       "       [0.27925964, 0.88036985, 0.06300916, 0.97557467, 0.39683264],\n",
       "       [0.90672282, 0.61842771, 0.43309099, 0.17842502, 0.33290737],\n",
       "       [0.73165155, 0.05738362, 0.17115737, 0.55996629, 0.02404766],\n",
       "       [0.74823345, 0.99561726, 0.5571385 , 0.49351218, 0.3740559 ],\n",
       "       [0.45382134, 0.06848144, 0.45595045, 0.87886364, 0.64047761]])"
      ]
     },
     "execution_count": 34,
     "metadata": {},
     "output_type": "execute_result"
    }
   ],
   "source": [
    "arr.T"
   ]
  },
  {
   "cell_type": "code",
   "execution_count": 37,
   "id": "b83bc351",
   "metadata": {},
   "outputs": [
    {
     "data": {
      "text/plain": [
       "np.int64(11)"
      ]
     },
     "execution_count": 37,
     "metadata": {},
     "output_type": "execute_result"
    }
   ],
   "source": [
    "arr = np.arange(30)\n",
    "arr\n",
    "arr[11]"
   ]
  },
  {
   "cell_type": "code",
   "execution_count": 38,
   "id": "b95db23f",
   "metadata": {},
   "outputs": [
    {
     "data": {
      "text/plain": [
       "array([0, 1, 2, 3, 4, 5, 6, 7, 8, 9])"
      ]
     },
     "execution_count": 38,
     "metadata": {},
     "output_type": "execute_result"
    }
   ],
   "source": [
    "arr[0:10]"
   ]
  },
  {
   "cell_type": "code",
   "execution_count": 40,
   "id": "0ce58c63",
   "metadata": {},
   "outputs": [
    {
     "data": {
      "text/plain": [
       "array([100,   1,   2,   3,   4,   5,   6,   7,   8,   9,  10,  11,  12,\n",
       "        13,  14,  15,  16,  17,  18,  19,  20,  21,  22,  23,  24,  25,\n",
       "        26,  27,  28,  29])"
      ]
     },
     "execution_count": 40,
     "metadata": {},
     "output_type": "execute_result"
    }
   ],
   "source": [
    "arr[0] = 100\n",
    "arr"
   ]
  },
  {
   "cell_type": "code",
   "execution_count": 42,
   "id": "a0a747ba",
   "metadata": {},
   "outputs": [
    {
     "data": {
      "text/plain": [
       "array([ 0,  1,  2,  3,  4,  5,  6,  7,  8,  9, 10, 11, 12, 13, 14, 15, 16,\n",
       "       17, 18, 19, 20, 21, 22, 23, 24, 25, 26, 27, 28, 29, 30, 31, 32, 33,\n",
       "       34, 35, 36, 37, 38, 39, 40, 41, 42, 43, 44, 45, 46, 47, 48, 49, 50,\n",
       "       51, 52, 53, 54, 55, 56, 57, 58, 59])"
      ]
     },
     "execution_count": 42,
     "metadata": {},
     "output_type": "execute_result"
    }
   ],
   "source": [
    "# 2D ARRAY\n",
    "arr = np.arange(60)\n",
    "arr"
   ]
  },
  {
   "cell_type": "code",
   "execution_count": 43,
   "id": "6b07e864",
   "metadata": {},
   "outputs": [
    {
     "data": {
      "text/plain": [
       "array([[ 0,  1,  2,  3,  4,  5],\n",
       "       [ 6,  7,  8,  9, 10, 11],\n",
       "       [12, 13, 14, 15, 16, 17],\n",
       "       [18, 19, 20, 21, 22, 23],\n",
       "       [24, 25, 26, 27, 28, 29],\n",
       "       [30, 31, 32, 33, 34, 35],\n",
       "       [36, 37, 38, 39, 40, 41],\n",
       "       [42, 43, 44, 45, 46, 47],\n",
       "       [48, 49, 50, 51, 52, 53],\n",
       "       [54, 55, 56, 57, 58, 59]])"
      ]
     },
     "execution_count": 43,
     "metadata": {},
     "output_type": "execute_result"
    }
   ],
   "source": [
    "arr.reshape(10,6)"
   ]
  },
  {
   "cell_type": "code",
   "execution_count": 55,
   "id": "63c66671",
   "metadata": {},
   "outputs": [
    {
     "ename": "IndexError",
     "evalue": "invalid index to scalar variable.",
     "output_type": "error",
     "traceback": [
      "\u001b[31m---------------------------------------------------------------------------\u001b[39m",
      "\u001b[31mIndexError\u001b[39m                                Traceback (most recent call last)",
      "\u001b[36mCell\u001b[39m\u001b[36m \u001b[39m\u001b[32mIn[55]\u001b[39m\u001b[32m, line 1\u001b[39m\n\u001b[32m----> \u001b[39m\u001b[32m1\u001b[39m \u001b[43marr\u001b[49m\u001b[43m[\u001b[49m\u001b[43m-\u001b[49m\u001b[32;43m1\u001b[39;49m\u001b[43m]\u001b[49m\u001b[43m[\u001b[49m\u001b[43m-\u001b[49m\u001b[32;43m1\u001b[39;49m\u001b[43m]\u001b[49m\n",
      "\u001b[31mIndexError\u001b[39m: invalid index to scalar variable."
     ]
    }
   ],
   "source": [
    "arr[-1][-1]"
   ]
  },
  {
   "cell_type": "code",
   "execution_count": 57,
   "id": "7d8b5100",
   "metadata": {},
   "outputs": [
    {
     "data": {
      "text/plain": [
       "array([[[  0,   1,   2],\n",
       "        [  3,   4,   5],\n",
       "        [  6,   7,   8],\n",
       "        [  9,  10,  11],\n",
       "        [ 12,  13,  14],\n",
       "        [ 15,  16,  17],\n",
       "        [ 18,  19,  20],\n",
       "        [ 21,  22,  23],\n",
       "        [ 24,  25,  26],\n",
       "        [ 27,  28,  29],\n",
       "        [ 30,  31,  32],\n",
       "        [ 33,  34,  35],\n",
       "        [ 36,  37,  38],\n",
       "        [ 39,  40,  41],\n",
       "        [ 42,  43,  44]],\n",
       "\n",
       "       [[ 45,  46,  47],\n",
       "        [ 48,  49,  50],\n",
       "        [ 51,  52,  53],\n",
       "        [ 54,  55,  56],\n",
       "        [ 57,  58,  59],\n",
       "        [ 60,  61,  62],\n",
       "        [ 63,  64,  65],\n",
       "        [ 66,  67,  68],\n",
       "        [ 69,  70,  71],\n",
       "        [ 72,  73,  74],\n",
       "        [ 75,  76,  77],\n",
       "        [ 78,  79,  80],\n",
       "        [ 81,  82,  83],\n",
       "        [ 84,  85,  86],\n",
       "        [ 87,  88,  89]],\n",
       "\n",
       "       [[ 90,  91,  92],\n",
       "        [ 93,  94,  95],\n",
       "        [ 96,  97,  98],\n",
       "        [ 99, 100, 101],\n",
       "        [102, 103, 104],\n",
       "        [105, 106, 107],\n",
       "        [108, 109, 110],\n",
       "        [111, 112, 113],\n",
       "        [114, 115, 116],\n",
       "        [117, 118, 119],\n",
       "        [120, 121, 122],\n",
       "        [123, 124, 125],\n",
       "        [126, 127, 128],\n",
       "        [129, 130, 131],\n",
       "        [132, 133, 134]],\n",
       "\n",
       "       [[135, 136, 137],\n",
       "        [138, 139, 140],\n",
       "        [141, 142, 143],\n",
       "        [144, 145, 146],\n",
       "        [147, 148, 149],\n",
       "        [150, 151, 152],\n",
       "        [153, 154, 155],\n",
       "        [156, 157, 158],\n",
       "        [159, 160, 161],\n",
       "        [162, 163, 164],\n",
       "        [165, 166, 167],\n",
       "        [168, 169, 170],\n",
       "        [171, 172, 173],\n",
       "        [174, 175, 176],\n",
       "        [177, 178, 179]],\n",
       "\n",
       "       [[180, 181, 182],\n",
       "        [183, 184, 185],\n",
       "        [186, 187, 188],\n",
       "        [189, 190, 191],\n",
       "        [192, 193, 194],\n",
       "        [195, 196, 197],\n",
       "        [198, 199, 200],\n",
       "        [201, 202, 203],\n",
       "        [204, 205, 206],\n",
       "        [207, 208, 209],\n",
       "        [210, 211, 212],\n",
       "        [213, 214, 215],\n",
       "        [216, 217, 218],\n",
       "        [219, 220, 221],\n",
       "        [222, 223, 224]]])"
      ]
     },
     "execution_count": 57,
     "metadata": {},
     "output_type": "execute_result"
    }
   ],
   "source": [
    "# 3D array\n",
    "\n",
    "arr = np.array(np.arange(225).reshape(5,15,3))\n",
    "arr"
   ]
  },
  {
   "cell_type": "code",
   "execution_count": 58,
   "id": "345bfe4c",
   "metadata": {},
   "outputs": [
    {
     "data": {
      "text/plain": [
       "array([[  0,   1,   2],\n",
       "       [ 45,  46,  47],\n",
       "       [ 90,  91,  92],\n",
       "       [135, 136, 137],\n",
       "       [180, 181, 182]])"
      ]
     },
     "execution_count": 58,
     "metadata": {},
     "output_type": "execute_result"
    }
   ],
   "source": [
    "arr[:,0,:]"
   ]
  },
  {
   "cell_type": "code",
   "execution_count": null,
   "id": "c95cc20f",
   "metadata": {},
   "outputs": [],
   "source": []
  },
  {
   "cell_type": "code",
   "execution_count": 59,
   "id": "a76832e6",
   "metadata": {},
   "outputs": [
    {
     "data": {
      "text/plain": [
       "array([[[  0]],\n",
       "\n",
       "       [[ 45]],\n",
       "\n",
       "       [[ 90]],\n",
       "\n",
       "       [[135]],\n",
       "\n",
       "       [[180]]])"
      ]
     },
     "execution_count": 59,
     "metadata": {},
     "output_type": "execute_result"
    }
   ],
   "source": [
    "arr[:,0:1,0:1]"
   ]
  },
  {
   "cell_type": "code",
   "execution_count": 63,
   "id": "a48fc889",
   "metadata": {},
   "outputs": [
    {
     "data": {
      "text/plain": [
       "array([[[     0,      1,      2],\n",
       "        [     3,      4,      5],\n",
       "        [     6,      7,      8],\n",
       "        [     9,     10,     11],\n",
       "        [    12,     13,     14],\n",
       "        [    15,     16,     17],\n",
       "        [    18,     19,     20],\n",
       "        [    21,     22,     23],\n",
       "        [    24,     25,     26],\n",
       "        [    27,     28,     29],\n",
       "        [    30,     31,     32],\n",
       "        [    33,     34,     35],\n",
       "        [    36,     37,     38],\n",
       "        [    39,     40,     41],\n",
       "        [    42,     43,     44]],\n",
       "\n",
       "       [[    45,     46,     47],\n",
       "        [    48,     49,     50],\n",
       "        [    51,     52,     53],\n",
       "        [    54,     55,     56],\n",
       "        [    57,     58,     59],\n",
       "        [    60,     61,     62],\n",
       "        [    63,     64,     65],\n",
       "        [    66,     67,     68],\n",
       "        [    69,     70,     71],\n",
       "        [    72,     73,     74],\n",
       "        [    75,     76,     77],\n",
       "        [    78,     79,     80],\n",
       "        [    81,     82,     83],\n",
       "        [    84,     85,     86],\n",
       "        [    87,     88,     89]],\n",
       "\n",
       "       [[    90,     91,     92],\n",
       "        [    93,     94,     95],\n",
       "        [    96,     97,     98],\n",
       "        [    99, 900000,    101],\n",
       "        [   102,    103,    104],\n",
       "        [   105,    106,    107],\n",
       "        [   108,    109,    110],\n",
       "        [   111,    112,    113],\n",
       "        [   114,    115,    116],\n",
       "        [   117,    118,    119],\n",
       "        [   120,    121,    122],\n",
       "        [   123,    124,    125],\n",
       "        [   126,    127,    128],\n",
       "        [   129,    130,    131],\n",
       "        [   132,    133,    134]],\n",
       "\n",
       "       [[   135,    136,    137],\n",
       "        [   138,    139,    140],\n",
       "        [   141,    142,    143],\n",
       "        [   144,    145,    146],\n",
       "        [   147,    148,    149],\n",
       "        [   150,    151,    152],\n",
       "        [   153,    154,    155],\n",
       "        [   156,    157,    158],\n",
       "        [   159,    160,    161],\n",
       "        [   162,    163,    164],\n",
       "        [   165,    166,    167],\n",
       "        [   168,    169,    170],\n",
       "        [   171,    172,    173],\n",
       "        [   174,    175,    176],\n",
       "        [   177,    178,    179]],\n",
       "\n",
       "       [[   180,    181,    182],\n",
       "        [   183,    184,    185],\n",
       "        [   186,    187,    188],\n",
       "        [   189,    190,    191],\n",
       "        [   192,    193,    194],\n",
       "        [   195,    196,    197],\n",
       "        [   198,    199,    200],\n",
       "        [   201,    202,    203],\n",
       "        [   204,    205,    206],\n",
       "        [   207,    208,    209],\n",
       "        [   210,    211,    212],\n",
       "        [   213,    214,    215],\n",
       "        [   216,    217,    218],\n",
       "        [   219,    220,    221],\n",
       "        [   222,    223,    224]]])"
      ]
     },
     "execution_count": 63,
     "metadata": {},
     "output_type": "execute_result"
    }
   ],
   "source": [
    "arr[2][3][1] = 900000\n",
    "arr"
   ]
  },
  {
   "cell_type": "code",
   "execution_count": 64,
   "id": "d229ca9d",
   "metadata": {},
   "outputs": [],
   "source": [
    "arr = np.array([2,3,4,1,5])"
   ]
  },
  {
   "cell_type": "code",
   "execution_count": 65,
   "id": "d2180ca9",
   "metadata": {},
   "outputs": [
    {
     "data": {
      "text/plain": [
       "array([1, 2, 3, 4, 5])"
      ]
     },
     "execution_count": 65,
     "metadata": {},
     "output_type": "execute_result"
    }
   ],
   "source": [
    "arr.sort()\n",
    "arr"
   ]
  },
  {
   "cell_type": "code",
   "execution_count": 66,
   "id": "7eefc2b3",
   "metadata": {},
   "outputs": [
    {
     "data": {
      "text/plain": [
       "array([ 2,  4,  6,  8, 10])"
      ]
     },
     "execution_count": 66,
     "metadata": {},
     "output_type": "execute_result"
    }
   ],
   "source": [
    "arr*2\n"
   ]
  },
  {
   "cell_type": "code",
   "execution_count": 67,
   "id": "7ee7d447",
   "metadata": {},
   "outputs": [
    {
     "data": {
      "text/plain": [
       "array([0, 1, 2, 3, 4])"
      ]
     },
     "execution_count": 67,
     "metadata": {},
     "output_type": "execute_result"
    }
   ],
   "source": [
    "arr-1"
   ]
  }
 ],
 "metadata": {
  "kernelspec": {
   "display_name": "Python 3",
   "language": "python",
   "name": "python3"
  },
  "language_info": {
   "codemirror_mode": {
    "name": "ipython",
    "version": 3
   },
   "file_extension": ".py",
   "mimetype": "text/x-python",
   "name": "python",
   "nbconvert_exporter": "python",
   "pygments_lexer": "ipython3",
   "version": "3.13.0"
  }
 },
 "nbformat": 4,
 "nbformat_minor": 5
}
