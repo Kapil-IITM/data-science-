{
 "cells": [
  {
   "cell_type": "code",
   "execution_count": null,
   "id": "58425995",
   "metadata": {},
   "outputs": [],
   "source": [
    "import os"
   ]
  },
  {
   "cell_type": "code",
   "execution_count": null,
   "id": "e160be97",
   "metadata": {},
   "outputs": [],
   "source": [
    "file = os.getcwd()"
   ]
  },
  {
   "cell_type": "code",
   "execution_count": null,
   "id": "b74f63d0",
   "metadata": {},
   "outputs": [],
   "source": [
    "file"
   ]
  },
  {
   "cell_type": "code",
   "execution_count": null,
   "id": "17b056d6",
   "metadata": {},
   "outputs": [],
   "source": [
    "file = os.listdir()\n",
    "print(\"total list of current directory\",file)"
   ]
  },
  {
   "cell_type": "code",
   "execution_count": null,
   "id": "e912bcac",
   "metadata": {},
   "outputs": [],
   "source": [
    "os.mkdir(\"New_folder\") # creating folder\n",
    "print(\"folder created successfully\")"
   ]
  },
  {
   "cell_type": "code",
   "execution_count": null,
   "id": "f219a0a3",
   "metadata": {},
   "outputs": [],
   "source": [
    "file = os.listdir()\n",
    "print(\"total list of current directory\",file)"
   ]
  },
  {
   "cell_type": "code",
   "execution_count": null,
   "id": "be2be9ba",
   "metadata": {},
   "outputs": [],
   "source": [
    "os.rename(\"Kapil\",\"KPL\")\n",
    "print(\"folder rename successfully\")"
   ]
  },
  {
   "cell_type": "code",
   "execution_count": null,
   "id": "efdadd4b",
   "metadata": {},
   "outputs": [],
   "source": [
    "os.rmdir(\"KPL\") # remove directory"
   ]
  },
  {
   "cell_type": "code",
   "execution_count": null,
   "id": "21d6584c",
   "metadata": {},
   "outputs": [],
   "source": [
    "# os.remove(\"poer.txt\") # removing file"
   ]
  },
  {
   "cell_type": "code",
   "execution_count": null,
   "id": "b349dd8d",
   "metadata": {},
   "outputs": [],
   "source": [
    "path = r\"e:C\\data-science-\\os\""
   ]
  },
  {
   "cell_type": "code",
   "execution_count": null,
   "id": "b46037e5",
   "metadata": {},
   "outputs": [],
   "source": [
    "path = os.environ.get(path)\n",
    "print(\"path exist\",path)\n"
   ]
  },
  {
   "cell_type": "code",
   "execution_count": null,
   "id": "d5e1f316",
   "metadata": {},
   "outputs": [],
   "source": [
    "os.system(\"e:Desktop\\\\DS\")"
   ]
  },
  {
   "cell_type": "code",
   "execution_count": null,
   "id": "c3b7eb6c",
   "metadata": {},
   "outputs": [],
   "source": [
    "os.path.isfile(r\"e:\\Desktop\\\\DS\\\\data-science-\\\\os\")"
   ]
  },
  {
   "cell_type": "code",
   "execution_count": null,
   "id": "535f37b7",
   "metadata": {},
   "outputs": [],
   "source": [
    "path1 = \"e:Desktop\\\\DS\\\\data-science-\\\\os\"\n",
    "path2 = \"data-science-\\\\os\"\n",
    "\n",
    "complete_path = os.path.join(path1,path2)\n",
    "print(\"your complete path :-\",complete_path)\n",
    "print(\"your list\", os.listdir(complete_path))\n"
   ]
  },
  {
   "cell_type": "code",
   "execution_count": null,
   "id": "27e1aab6",
   "metadata": {},
   "outputs": [],
   "source": [
    "size = os.path.getsize(r\"e:Desktop\\DS\\data-science-\\os\\data-science-\\os\")\n",
    "size"
   ]
  },
  {
   "cell_type": "code",
   "execution_count": null,
   "id": "d117afb0",
   "metadata": {},
   "outputs": [],
   "source": [
    "print(\"before dir\", os.getcwd())\n",
    "os.chdir()"
   ]
  }
 ],
 "metadata": {
  "kernelspec": {
   "display_name": "Python 3",
   "language": "python",
   "name": "python3"
  },
  "language_info": {
   "codemirror_mode": {
    "name": "ipython",
    "version": 3
   },
   "file_extension": ".py",
   "mimetype": "text/x-python",
   "name": "python",
   "nbconvert_exporter": "python",
   "pygments_lexer": "ipython3",
   "version": "3.13.0"
  }
 },
 "nbformat": 4,
 "nbformat_minor": 5
}
