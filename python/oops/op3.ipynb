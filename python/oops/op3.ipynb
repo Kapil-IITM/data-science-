{
 "cells": [
  {
   "cell_type": "markdown",
   "id": "6d44818b",
   "metadata": {},
   "source": [
    "### OOPS"
   ]
  },
  {
   "cell_type": "code",
   "execution_count": 32,
   "id": "f0956931",
   "metadata": {},
   "outputs": [
    {
     "name": "stdout",
     "output_type": "stream",
     "text": [
      "Kapil is in class 12 with 96.7%\n",
      "vijay is in class 11 with 99%\n",
      "vinay is in class 10 with 100%\n",
      "prince is in class 12 with 97%\n"
     ]
    }
   ],
   "source": [
    "class Student:\n",
    "    def __init__(self,Name,grade,percentage):\n",
    "        self.name = Name\n",
    "        self.grade = grade\n",
    "        self.percentage = percentage\n",
    "\n",
    "    def Student_details(self):\n",
    "        print(f\"{self.name} is in class {self.grade} with {self.percentage}%\")\n",
    "\n",
    "    \n",
    "s1 = Student(\"Kapil\",12,96.7)\n",
    "s2 = Student(\"vijay\",11,99)\n",
    "s3 = Student(\"vinay\",10,100)\n",
    "s4 = Student(\"prince\",12,97)\n",
    "\n",
    "s1.Student_details()\n",
    "s2.Student_details()\n",
    "s3.Student_details()\n",
    "s4.Student_details()"
   ]
  }
 ],
 "metadata": {
  "kernelspec": {
   "display_name": "Python 3",
   "language": "python",
   "name": "python3"
  },
  "language_info": {
   "codemirror_mode": {
    "name": "ipython",
    "version": 3
   },
   "file_extension": ".py",
   "mimetype": "text/x-python",
   "name": "python",
   "nbconvert_exporter": "python",
   "pygments_lexer": "ipython3",
   "version": "3.13.0"
  }
 },
 "nbformat": 4,
 "nbformat_minor": 5
}
