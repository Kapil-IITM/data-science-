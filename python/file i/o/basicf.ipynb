{
 "cells": [
  {
   "cell_type": "code",
   "execution_count": 2,
   "id": "40a9fe87",
   "metadata": {},
   "outputs": [
    {
     "ename": "_IncompleteInputError",
     "evalue": "incomplete input (3760671423.py, line 1)",
     "output_type": "error",
     "traceback": [
      "  \u001b[36mCell\u001b[39m\u001b[36m \u001b[39m\u001b[32mIn[2]\u001b[39m\u001b[32m, line 1\u001b[39m\n\u001b[31m    \u001b[39m\u001b[31mtry:\u001b[39m\n        ^\n\u001b[31m_IncompleteInputError\u001b[39m\u001b[31m:\u001b[39m incomplete input\n"
     ]
    }
   ],
   "source": [
    "# try:\n",
    "#     pass\n",
    "# except:\n",
    "#     paas\n",
    "# else:\n",
    "#     pass\n",
    "# finally:\n",
    "#     pass"
   ]
  },
  {
   "cell_type": "code",
   "execution_count": 3,
   "id": "a722aee5",
   "metadata": {},
   "outputs": [
    {
     "name": "stdout",
     "output_type": "stream",
     "text": [
      "2.0\n"
     ]
    }
   ],
   "source": [
    "try:\n",
    "    a=10\n",
    "    b=5\n",
    "    print(a/b)\n",
    "except:\n",
    "    print(\"exception\")"
   ]
  },
  {
   "cell_type": "code",
   "execution_count": 7,
   "id": "d94407eb",
   "metadata": {},
   "outputs": [
    {
     "name": "stdout",
     "output_type": "stream",
     "text": [
      "invalid literal for int() with base 10: 'c5'\n",
      "aapnse koi string dali h\n"
     ]
    }
   ],
   "source": [
    "try:\n",
    "    num1 = int(input(\"enter a number\"))\n",
    "    num2 = int(input(\"enter a second number\"))\n",
    "    print(num1/num2)\n",
    "except Exception as  e:\n",
    "    print(e)\n",
    "    print(\"aapnse koi string dali h\")"
   ]
  },
  {
   "cell_type": "code",
   "execution_count": 9,
   "id": "640e18fe",
   "metadata": {},
   "outputs": [
    {
     "name": "stdout",
     "output_type": "stream",
     "text": [
      "invalid literal for int() with base 10: 'g'\n",
      "aapnse koi string dali h\n",
      "aap teeno chalo ya na chalo m to chaluga \n"
     ]
    }
   ],
   "source": [
    "try:\n",
    "    num1 = int(input(\"enter a number\"))\n",
    "    num2 = int(input(\"enter a second number\"))\n",
    "    print(num1/num2)\n",
    "except Exception as  e:\n",
    "    print(e)\n",
    "    print(\"aapnse koi string dali h\")\n",
    "else:\n",
    "    print(\"hello bhai m jab chaluga jab mera try block chlega\")\n",
    "finally:\n",
    "    print(\"aap teeno chalo ya na chalo m to chaluga \")"
   ]
  },
  {
   "cell_type": "code",
   "execution_count": 10,
   "id": "10b7fc85",
   "metadata": {},
   "outputs": [
    {
     "ename": "RuntimeError",
     "evalue": "No active exception to reraise",
     "output_type": "error",
     "traceback": [
      "\u001b[31m---------------------------------------------------------------------------\u001b[39m",
      "\u001b[31mRuntimeError\u001b[39m                              Traceback (most recent call last)",
      "\u001b[36mCell\u001b[39m\u001b[36m \u001b[39m\u001b[32mIn[10]\u001b[39m\u001b[32m, line 5\u001b[39m\n\u001b[32m      3\u001b[39m x = -\u001b[32m6\u001b[39m\n\u001b[32m      4\u001b[39m \u001b[38;5;28;01mif\u001b[39;00m x<\u001b[32m0\u001b[39m:\n\u001b[32m----> \u001b[39m\u001b[32m5\u001b[39m     \u001b[38;5;28;01mraise\u001b[39;00m\n",
      "\u001b[31mRuntimeError\u001b[39m: No active exception to reraise"
     ]
    }
   ],
   "source": [
    "# Run time error \n",
    "\n",
    "x = -6\n",
    "if x<0:\n",
    "    raise"
   ]
  },
  {
   "cell_type": "code",
   "execution_count": null,
   "id": "6b5c166a",
   "metadata": {},
   "outputs": [
    {
     "ename": "_IncompleteInputError",
     "evalue": "incomplete input (2618578427.py, line 8)",
     "output_type": "error",
     "traceback": [
      "  \u001b[36mCell\u001b[39m\u001b[36m \u001b[39m\u001b[32mIn[13]\u001b[39m\u001b[32m, line 8\u001b[39m\n\u001b[31m    \u001b[39m\u001b[31mraise ValueError(\"not valid\")\u001b[39m\n                                 ^\n\u001b[31m_IncompleteInputError\u001b[39m\u001b[31m:\u001b[39m incomplete input\n"
     ]
    }
   ],
   "source": [
    " # value arror \n",
    "try:\n",
    "    x = -6\n",
    "    if x < 0:\n",
    "\n",
    "        raise ValueError(\"not valid\")"
   ]
  },
  {
   "cell_type": "code",
   "execution_count": 12,
   "id": "64ebd06b",
   "metadata": {},
   "outputs": [
    {
     "ename": "TypeError",
     "evalue": "not valid",
     "output_type": "error",
     "traceback": [
      "\u001b[31m---------------------------------------------------------------------------\u001b[39m",
      "\u001b[31mTypeError\u001b[39m                                 Traceback (most recent call last)",
      "\u001b[36mCell\u001b[39m\u001b[36m \u001b[39m\u001b[32mIn[12]\u001b[39m\u001b[32m, line 4\u001b[39m\n\u001b[32m      2\u001b[39m x = -\u001b[32m6\u001b[39m\n\u001b[32m      3\u001b[39m \u001b[38;5;28;01mif\u001b[39;00m x < \u001b[32m0\u001b[39m:\n\u001b[32m----> \u001b[39m\u001b[32m4\u001b[39m     \u001b[38;5;28;01mraise\u001b[39;00m \u001b[38;5;167;01mTypeError\u001b[39;00m(\u001b[33m\"\u001b[39m\u001b[33mnot valid\u001b[39m\u001b[33m\"\u001b[39m)\n",
      "\u001b[31mTypeError\u001b[39m: not valid"
     ]
    }
   ],
   "source": [
    "# value arror \n",
    "x = -6\n",
    "if x < 0:\n",
    "    raise TypeError(\"not valid\")"
   ]
  }
 ],
 "metadata": {
  "kernelspec": {
   "display_name": "Python 3",
   "language": "python",
   "name": "python3"
  },
  "language_info": {
   "codemirror_mode": {
    "name": "ipython",
    "version": 3
   },
   "file_extension": ".py",
   "mimetype": "text/x-python",
   "name": "python",
   "nbconvert_exporter": "python",
   "pygments_lexer": "ipython3",
   "version": "3.13.0"
  }
 },
 "nbformat": 4,
 "nbformat_minor": 5
}
