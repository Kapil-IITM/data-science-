{
 "cells": [
  {
   "cell_type": "markdown",
   "id": "3850492a",
   "metadata": {},
   "source": [
    "### file handling"
   ]
  },
  {
   "cell_type": "markdown",
   "id": "9975303b",
   "metadata": {},
   "source": [
    "#### File Handling \n",
    "\n",
    "| Mode  | Meaning            | Description                                                                          |\n",
    "| ----- | ------------------ | ------------------------------------------------------------------------------------ |\n",
    "| 'r' | Read               | Opens a file for reading. File must exist.                                           |\n",
    "| 'w' | Write              | Opens a file for writing. Creates a new file or *overwrites* if it exists.         |\n",
    "| 'a' | Append             | Opens a file for appending. Creates if not exists; *adds to the end*.              |\n",
    "| 'x' | Exclusive creation | Creates a file, **fails if file                         |"
   ]
  },
  {
   "cell_type": "code",
   "execution_count": null,
   "id": "31077910",
   "metadata": {},
   "outputs": [],
   "source": [
    "file = open(\"poet.txt\",'r')\n",
    "file.read()\n",
    "file.close()"
   ]
  },
  {
   "cell_type": "code",
   "execution_count": null,
   "id": "03f2d914",
   "metadata": {},
   "outputs": [],
   "source": [
    "file = open(\"poet.txt\",'w')\n",
    "file.write(\"How are you\")\n",
    "file.close()"
   ]
  },
  {
   "cell_type": "code",
   "execution_count": null,
   "id": "e56a63b4",
   "metadata": {},
   "outputs": [],
   "source": [
    "file = open(\"poet.txt\",'r')\n",
    "file.read()\n",
    "file.close()"
   ]
  },
  {
   "cell_type": "code",
   "execution_count": null,
   "id": "48380eb0",
   "metadata": {},
   "outputs": [],
   "source": [
    "file = open(\"poet2.txt\",\"a\")\n",
    "file.write(\"aap kese ho and data science kesa h \")\n",
    "file.close()\n"
   ]
  },
  {
   "cell_type": "code",
   "execution_count": null,
   "id": "d36f4117",
   "metadata": {},
   "outputs": [],
   "source": [
    "file = open(\"poet4.txt\",\"x\")\n",
    "file.close()"
   ]
  },
  {
   "cell_type": "code",
   "execution_count": null,
   "id": "4ad2f5b3",
   "metadata": {},
   "outputs": [],
   "source": [
    "file =  open(\"kapil.txt\",\"x\")\n"
   ]
  },
  {
   "cell_type": "code",
   "execution_count": null,
   "id": "45cf8676",
   "metadata": {},
   "outputs": [],
   "source": [
    "file = open(\"kapil.txt\",\"w\")\n",
    "file.write(\"my name is kapil\")\n"
   ]
  }
 ],
 "metadata": {
  "kernelspec": {
   "display_name": "Python 3",
   "language": "python",
   "name": "python3"
  },
  "language_info": {
   "codemirror_mode": {
    "name": "ipython",
    "version": 3
   },
   "file_extension": ".py",
   "mimetype": "text/x-python",
   "name": "python",
   "nbconvert_exporter": "python",
   "pygments_lexer": "ipython3",
   "version": "3.13.0"
  }
 },
 "nbformat": 4,
 "nbformat_minor": 5
}
